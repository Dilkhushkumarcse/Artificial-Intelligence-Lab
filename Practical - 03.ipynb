{
  "nbformat": 4,
  "nbformat_minor": 0,
  "metadata": {
    "colab": {
      "provenance": []
    },
    "kernelspec": {
      "name": "python3",
      "display_name": "Python 3"
    },
    "language_info": {
      "name": "python"
    }
  },
  "cells": [
    {
      "cell_type": "code",
      "execution_count": null,
      "metadata": {
        "colab": {
          "base_uri": "https://localhost:8080/"
        },
        "id": "hoq8jZr3jAvc",
        "outputId": "a0d05fbb-da69-40d6-f9d9-9fff310c916d"
      },
      "outputs": [
        {
          "output_type": "stream",
          "name": "stdout",
          "text": [
            "A* Search Result: ['S', 'B', 'C']\n"
          ]
        }
      ],
      "source": [
        "import heapq\n",
        "# Define a graph\n",
        "graph = {\n",
        "    'S': {'A': 5, 'B': 4},\n",
        "    'A': {'D': 10, 'C': 5},\n",
        "    'B': {'C': 3},\n",
        "    'C': {},\n",
        "    'D': {'C':3}\n",
        "}\n",
        "\n",
        "# Heuristic values (estimate of cost to goal)\n",
        "heuristic = {\n",
        "    'S': 7,\n",
        "    'A': 6,\n",
        "    'B': 2,\n",
        "    'C': 0,\n",
        "    'D': 2,\n",
        "}\n",
        "\n",
        "# A* Search Algorithm\n",
        "def a_star(graph, heuristic, start, goal):\n",
        "    open_list = []\n",
        "     # (f(n), node, path)\n",
        "    heapq.heappush(open_list, (0 + heuristic[start], start, []))\n",
        "    visited = set()\n",
        "\n",
        "# Corrected indentation here and for the following lines within the loop.\n",
        "    while open_list:\n",
        "        _, current_node, path = heapq.heappop(open_list)\n",
        "\n",
        "        # If we reach the goal\n",
        "        if current_node == goal:\n",
        "            return path + [goal]\n",
        "\n",
        "        if current_node in visited:\n",
        "            continue\n",
        "\n",
        "        visited.add(current_node)\n",
        "\n",
        "        for neighbor, cost in graph[current_node].items():\n",
        "            if neighbor not in visited:\n",
        "                # f(n) = g(n) + h(n)\n",
        "                total_cost = cost + heuristic[neighbor]\n",
        "                heapq.heappush(open_list, (total_cost, neighbor, path + [current_node]))\n",
        "\n",
        "    return None  # If no path is found\n",
        "\n",
        "# Testing the A* algorithm\n",
        "start_node = 'S'\n",
        "goal_node = 'C'\n",
        "\n",
        "result = a_star(graph, heuristic, start_node, goal_node)\n",
        "print(\"A* Search Result:\", result)"
      ]
    }
  ]
}