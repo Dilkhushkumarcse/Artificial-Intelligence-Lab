{
  "nbformat": 4,
  "nbformat_minor": 0,
  "metadata": {
    "colab": {
      "provenance": []
    },
    "kernelspec": {
      "name": "python3",
      "display_name": "Python 3"
    },
    "language_info": {
      "name": "python"
    }
  },
  "cells": [
    {
      "cell_type": "code",
      "execution_count": 1,
      "metadata": {
        "colab": {
          "base_uri": "https://localhost:8080/"
        },
        "id": "6Gs7v3cHpGOt",
        "outputId": "1b3021f2-4d42-4ab3-b2af-919bf197f2d3"
      },
      "outputs": [
        {
          "output_type": "stream",
          "name": "stdout",
          "text": [
            "Best Move for 'X': (2, 0)\n"
          ]
        }
      ],
      "source": [
        "import math\n",
        "\n",
        "# Function to check if any player has won\n",
        "def evaluate(board):\n",
        "    # Check rows, columns and diagonals for a win\n",
        "    for row in board:\n",
        "        if row.count(row[0]) == 3 and row[0] != '_':\n",
        "            return 1 if row[0] == 'X' else -1  # 'X' wins → 1, 'O' wins → -1\n",
        "\n",
        "    for col in range(3):\n",
        "        if board[0][col] == board[1][col] == board[2][col] and board[0][col] != '_':\n",
        "            return 1 if board[0][col] == 'X' else -1\n",
        "\n",
        "    if board[0][0] == board[1][1] == board[2][2] and board[0][0] != '_':\n",
        "        return 1 if board[0][0] == 'X' else -1\n",
        "\n",
        "    if board[0][2] == board[1][1] == board[2][0] and board[0][2] != '_':\n",
        "        return 1 if board[0][2] == 'X' else -1\n",
        "\n",
        "    return 0 # No winner\n",
        "\n",
        "# Check if moves are left on the board\n",
        "def is_moves_left(board):\n",
        "    for row in board:\n",
        "        if '_' in row:\n",
        "            return True\n",
        "    return False\n",
        "\n",
        "# Minimax function with Alpha-Beta Pruning\n",
        "def minimax(board, depth, is_max, alpha, beta):\n",
        "    score = evaluate(board)\n",
        "\n",
        "    # If game is over, return score\n",
        "    if score == 1:  # 'X' wins\n",
        "        return 10 - depth\n",
        "    if score == -1:  # 'O' wins\n",
        "        return depth - 10\n",
        "    if not is_moves_left(board):  # Tie\n",
        "        return 0\n",
        "\n",
        "    # Maximizing player's turn ('X')\n",
        "    if is_max:\n",
        "        best = -math.inf\n",
        "        for i in range(3):\n",
        "            for j in range(3):\n",
        "                if board[i][j] == '_':  # Check if move is possible\n",
        "                    board[i][j] = 'X'  # Make move\n",
        "                    best = max(best, minimax(board, depth + 1, False, alpha, beta))\n",
        "                    board[i][j] = '_'  # Undo move\n",
        "                    alpha = max(alpha, best)\n",
        "                    if beta <= alpha:  # Alpha-Beta Pruning\n",
        "                        break\n",
        "        return best\n",
        "\n",
        "    # Minimizing player's turn ('O')\n",
        "    else:\n",
        "        best = math.inf\n",
        "        for i in range(3):\n",
        "            for j in range(3):\n",
        "                if board[i][j] == '_':\n",
        "                    board[i][j] = 'O'\n",
        "                    best = min(best, minimax(board, depth + 1, True, alpha, beta))\n",
        "                    board[i][j] = '_'\n",
        "                    beta = min(beta, best)\n",
        "                    if beta <= alpha:  # Alpha-Beta Pruning\n",
        "                        break\n",
        "        return best\n",
        "\n",
        "# Find the best move for AI (X)\n",
        "def find_best_move(board):\n",
        "    best_val = -math.inf\n",
        "    best_move = (-1, -1)\n",
        "\n",
        "    for i in range(3):\n",
        "        for j in range(3):\n",
        "            if board[i][j] == '_':  # Check if move is possible\n",
        "                board[i][j] = 'X'  # Make move\n",
        "                move_val = minimax(board, 0, False, -math.inf, math.inf)\n",
        "                board[i][j] = '_'  # Undo move\n",
        "\n",
        "                if move_val > best_val:\n",
        "                    best_move = (i, j)\n",
        "                    best_val = move_val\n",
        "\n",
        "    return best_move\n",
        "\n",
        "# Testing the AI (Initial Board)\n",
        "board = [\n",
        "    ['X', 'O', 'X'],\n",
        "    ['O', 'X', '_'],\n",
        "    ['_', 'O', '_']\n",
        "]\n",
        "\n",
        "best_move = find_best_move(board)\n",
        "print(f\"Best Move for 'X': {best_move}\")"
      ]
    }
  ]
}