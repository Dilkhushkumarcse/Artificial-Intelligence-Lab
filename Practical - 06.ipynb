{
  "nbformat": 4,
  "nbformat_minor": 0,
  "metadata": {
    "colab": {
      "provenance": []
    },
    "kernelspec": {
      "name": "python3",
      "display_name": "Python 3"
    },
    "language_info": {
      "name": "python"
    }
  },
  "cells": [
    {
      "cell_type": "code",
      "source": [
        "import pandas as pd\n",
        "from pgmpy.models import DiscreteBayesianNetwork\n",
        "from pgmpy.factors.discrete import TabularCPD\n",
        "from pgmpy.inference import VariableElimination\n",
        "\n",
        "# Step 1: Define the Bayesian Network structure\n",
        "model = DiscreteBayesianNetwork([('A', 'B'), ('B', 'C')])\n",
        "\n",
        "# Step 2: Define the CPDs (Conditional Probability Distributions)\n",
        "cpd_A = TabularCPD(variable='A', variable_card=2, values=[[0.5], [0.5]])\n",
        "cpd_B = TabularCPD(variable='B', variable_card=2,\n",
        "                   values=[[0.8, 0.4],\n",
        "                           [0.2, 0.6]],\n",
        "                   evidence=['A'], evidence_card=[2])\n",
        "cpd_C = TabularCPD(variable='C', variable_card=2,\n",
        "                   values=[[0.9, 0.7],\n",
        "                           [0.1, 0.3]],\n",
        "                   evidence=['B'], evidence_card=[2])\n",
        "\n",
        "# Step 3: Add CPDs to the model\n",
        "model.add_cpds(cpd_A, cpd_B, cpd_C)\n",
        "\n",
        "# Step 4: Check if the model is valid\n",
        "print(\"Is the model valid?\", model.check_model())\n",
        "\n",
        "# Step 5: Perform inference using Variable Elimination\n",
        "inference = VariableElimination(model)\n",
        "result = inference.query(variables=['C'], evidence={'A': 1})\n",
        "\n",
        "print(\"\\nInference result (C given A=1):\")\n",
        "print(result)\n"
      ],
      "metadata": {
        "id": "aB-DHwnT9yK8",
        "colab": {
          "base_uri": "https://localhost:8080/"
        },
        "outputId": "ede4d698-4660-41de-ed16-406b705afaef"
      },
      "execution_count": 12,
      "outputs": [
        {
          "output_type": "stream",
          "name": "stdout",
          "text": [
            "Is the model valid? True\n",
            "\n",
            "Inference result (C given A=1):\n",
            "+------+----------+\n",
            "| C    |   phi(C) |\n",
            "+======+==========+\n",
            "| C(0) |   0.7800 |\n",
            "+------+----------+\n",
            "| C(1) |   0.2200 |\n",
            "+------+----------+\n"
          ]
        }
      ]
    }
  ]
}