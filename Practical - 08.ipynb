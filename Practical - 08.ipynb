{
  "nbformat": 4,
  "nbformat_minor": 0,
  "metadata": {
    "colab": {
      "provenance": []
    },
    "kernelspec": {
      "name": "python3",
      "display_name": "Python 3"
    },
    "language_info": {
      "name": "python"
    }
  },
  "cells": [
    {
      "cell_type": "code",
      "source": [
        "import numpy as np\n",
        "import random\n",
        "ROWS, COLS = 4, 4\n",
        "ACTIONS = ['U', 'D', 'L', 'R']\n",
        "ACTION_IDX = {'U': 0, 'D': 1, 'L': 2, 'R': 3}\n",
        "# Hyperparameters\n",
        "alpha = 0.1      # learning rate\n",
        "gamma = 0.9      # discount factor\n",
        "epsilon = 0.1    # exploration rate\n",
        "episodes = 500\n",
        "# Reward structure\n",
        "def get_reward(state):\n",
        "    return 10 if state == (3, 3) else -1\n",
        "# Get next state from current state and action\n",
        "def step(state, action):\n",
        "    i, j = state\n",
        "    if action == 'U' and i > 0: i -= 1\n",
        "    elif action == 'D' and i < ROWS - 1: i += 1\n",
        "    elif action == 'L' and j > 0: j -= 1\n",
        "    elif action == 'R' and j < COLS - 1: j += 1\n",
        "    return (i, j)\n",
        "# Initialize Q-table\n",
        "Q = np.zeros((ROWS, COLS, len(ACTIONS)))\n",
        "# Q-Learning Algorithm\n",
        "for ep in range(episodes):\n",
        "    state = (0, 0)\n",
        "    while state != (3, 3):\n",
        "        if random.uniform(0, 1) < epsilon:\n",
        "            action = random.choice(ACTIONS)\n",
        "        else:\n",
        "            action = ACTIONS[np.argmax(Q[state[0], state[1]])]\n",
        "        next_state = step(state, action)\n",
        "        reward = get_reward(next_state)\n",
        "        a_idx = ACTION_IDX[action]\n",
        "        # Q-value update\n",
        "        Q[state[0], state[1], a_idx] = Q[state[0], state[1], a_idx] + alpha * (\n",
        "            reward + gamma * np.max(Q[next_state[0], next_state[1]]) - Q[state[0], state[1], a_idx]\n",
        "        )\n",
        "        state = next_state\n",
        "# Extract policy from Q-table\n",
        "policy = np.full((ROWS, COLS), ' ')\n",
        "for i in range(ROWS):\n",
        "    for j in range(COLS):\n",
        "        if (i, j) == (3, 3):\n",
        "            policy[i, j] = 'G'  # Goal\n",
        "        else:\n",
        "            best_action = ACTIONS[np.argmax(Q[i, j])]\n",
        "            policy[i, j] = best_action\n",
        "# Display results\n",
        "print(\"Learned Policy (after training):\")\n",
        "for row in policy:\n",
        "    print(' '.join(row))\n"
      ],
      "metadata": {
        "id": "aB-DHwnT9yK8",
        "colab": {
          "base_uri": "https://localhost:8080/"
        },
        "outputId": "33dcf186-54d5-45b4-c507-dd77ac08cd1d"
      },
      "execution_count": 15,
      "outputs": [
        {
          "output_type": "stream",
          "name": "stdout",
          "text": [
            "Learned Policy (after training):\n",
            "R D D D\n",
            "R R D D\n",
            "R R R D\n",
            "R R R G\n"
          ]
        }
      ]
    }
  ]
}